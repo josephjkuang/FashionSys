{
 "cells": [
  {
   "cell_type": "code",
   "execution_count": 1,
   "metadata": {},
   "outputs": [],
   "source": [
    "import json\n",
    "import numpy as np\n",
    "import os"
   ]
  },
  {
   "cell_type": "markdown",
   "metadata": {},
   "source": [
    "## Aggregate Kaggle Files"
   ]
  },
  {
   "cell_type": "code",
   "execution_count": 61,
   "metadata": {},
   "outputs": [],
   "source": [
    "# Get outfit titles\n",
    "file = open('polyvore_outfits/polyvore_outfit_titles.json', 'r')\n",
    "outfits = json.load(file)\n",
    "\n",
    "# Get outfit items\n",
    "test = open('polyvore_outfits/disjoint/test.json', 'r')\n",
    "test = json.load(test)\n",
    "\n",
    "train = open('polyvore_outfits/disjoint/train.json', 'r')\n",
    "train = json.load(train)\n",
    "\n",
    "validation = open('polyvore_outfits/disjoint/valid.json', 'r')\n",
    "validation = json.load(validation)\n",
    "\n",
    "# combine test, train, and validation\n",
    "outfit_items = test + train + validation"
   ]
  },
  {
   "cell_type": "code",
   "execution_count": 62,
   "metadata": {},
   "outputs": [],
   "source": [
    "# Combine title to the item list for ease of use\n",
    "for item in outfit_items:\n",
    "    if item['set_id'] not in outfits.keys():\n",
    "        print(\"Not inside\", item['set_id'])\n",
    "    else:\n",
    "        item['title'] = outfits[item['set_id']]['url_name']\n",
    "        item['alt_title'] = outfits[item['set_id']]['title']"
   ]
  },
  {
   "cell_type": "code",
   "execution_count": null,
   "metadata": {},
   "outputs": [],
   "source": [
    "\n",
    "# Create a dictionary to store the mapping\n",
    "mapping = {}\n",
    "\n",
    "# Iterate through each item in the JSON data\n",
    "for item in outfit_items:\n",
    "    set_id = item['set_id']  # Extract the set_id\n",
    "    # Remove the set_id from the item and store the remainder\n",
    "    remainder = {key: value for key, value in item.items() if key != 'set_id'}\n",
    "    mapping[set_id] = remainder  # Store the mapping\n",
    "\n",
    "with open(\"outfits.json\", 'w') as f:\n",
    "    json.dump(mapping, f, indent=2)"
   ]
  },
  {
   "cell_type": "markdown",
   "metadata": {},
   "source": [
    "## Aggregate npy embeddings"
   ]
  },
  {
   "cell_type": "code",
   "execution_count": 9,
   "metadata": {},
   "outputs": [],
   "source": [
    "import numpy as np\n",
    "import os\n",
    "\n",
    "def combine_npy_files(folder_path, output_file):\n",
    "    npy_files = [file for file in os.listdir(folder_path) if file.endswith('.npy')]\n",
    "    arrays = [np.load(os.path.join(folder_path, file)) for file in npy_files]\n",
    "    combined_array = np.concatenate(arrays, axis=0)  # Change axis if needed\n",
    "    np.save(output_file, combined_array)\n",
    "\n",
    "# # Example usage:\n",
    "folder_path = '.'\n",
    "output_file = 'embeddings.npy'\n",
    "combine_npy_files(folder_path, output_file)\n"
   ]
  },
  {
   "cell_type": "code",
   "execution_count": 10,
   "metadata": {},
   "outputs": [],
   "source": [
    "# Define the path to the combined batch file\n",
    "combined_batch_path = \"filenames.txt\"\n",
    "\n",
    "# Open the combined batch file in write mode\n",
    "with open(combined_batch_path, 'w') as combined_file:\n",
    "    # Iterate through batches from 1 to 20\n",
    "    for batch in range(1, 21):\n",
    "        # Define the path to the current batch file\n",
    "        batch_file_path = \"batch_files/batch_{}.txt\".format(batch)\n",
    "        \n",
    "        # Open the current batch file in read mode\n",
    "        with open(batch_file_path, 'r') as batch_file:\n",
    "            # Read the contents of the current batch file and write them to the combined batch file\n",
    "            combined_file.write(batch_file.read())\n"
   ]
  },
  {
   "cell_type": "code",
   "execution_count": null,
   "metadata": {},
   "outputs": [],
   "source": []
  }
 ],
 "metadata": {
  "kernelspec": {
   "display_name": "Python 3",
   "language": "python",
   "name": "python3"
  },
  "language_info": {
   "codemirror_mode": {
    "name": "ipython",
    "version": 3
   },
   "file_extension": ".py",
   "mimetype": "text/x-python",
   "name": "python",
   "nbconvert_exporter": "python",
   "pygments_lexer": "ipython3",
   "version": "3.8.5"
  }
 },
 "nbformat": 4,
 "nbformat_minor": 2
}
