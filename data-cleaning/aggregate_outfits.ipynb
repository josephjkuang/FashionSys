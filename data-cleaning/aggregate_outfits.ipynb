{
 "cells": [
  {
   "cell_type": "code",
   "execution_count": 60,
   "metadata": {},
   "outputs": [],
   "source": [
    "import json"
   ]
  },
  {
   "cell_type": "code",
   "execution_count": 61,
   "metadata": {},
   "outputs": [],
   "source": [
    "# Get outfit titles\n",
    "file = open('polyvore_outfits/polyvore_outfit_titles.json', 'r')\n",
    "outfits = json.load(file)\n",
    "\n",
    "# Get outfit items\n",
    "test = open('polyvore_outfits/disjoint/test.json', 'r')\n",
    "test = json.load(test)\n",
    "\n",
    "train = open('polyvore_outfits/disjoint/train.json', 'r')\n",
    "train = json.load(train)\n",
    "\n",
    "validation = open('polyvore_outfits/disjoint/valid.json', 'r')\n",
    "validation = json.load(validation)\n",
    "\n",
    "# combine test, train, and validation\n",
    "outfit_items = test + train + validation"
   ]
  },
  {
   "cell_type": "code",
   "execution_count": 62,
   "metadata": {},
   "outputs": [],
   "source": [
    "# Combine title to the item list for ease of use\n",
    "for item in outfit_items:\n",
    "    if item['set_id'] not in outfits.keys():\n",
    "        print(\"Not inside\", item['set_id'])\n",
    "    else:\n",
    "        item['title'] = outfits[item['set_id']]['url_name']\n",
    "        item['shortened_title'] = outfits[item['set_id']]['title']"
   ]
  },
  {
   "cell_type": "code",
   "execution_count": 63,
   "metadata": {},
   "outputs": [],
   "source": [
    "# Save file\n",
    "with open(\"data/outfits.json\", 'w') as f:\n",
    "    json.dump(outfit_items, f, indent=2)"
   ]
  },
  {
   "cell_type": "code",
   "execution_count": null,
   "metadata": {},
   "outputs": [],
   "source": []
  }
 ],
 "metadata": {
  "kernelspec": {
   "display_name": "Python 3",
   "language": "python",
   "name": "python3"
  },
  "language_info": {
   "codemirror_mode": {
    "name": "ipython",
    "version": 3
   },
   "file_extension": ".py",
   "mimetype": "text/x-python",
   "name": "python",
   "nbconvert_exporter": "python",
   "pygments_lexer": "ipython3",
   "version": "3.8.5"
  }
 },
 "nbformat": 4,
 "nbformat_minor": 2
}
