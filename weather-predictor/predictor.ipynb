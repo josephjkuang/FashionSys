{
 "cells": [
  {
   "cell_type": "code",
   "execution_count": 1,
   "metadata": {},
   "outputs": [],
   "source": [
    "import requests"
   ]
  },
  {
   "cell_type": "code",
   "execution_count": 28,
   "id": "0b381254",
   "metadata": {},
   "outputs": [],
   "source": [
    "def get_weather_nws(latitude, longitude, api_version=\"1.1\", units=\"si\"):\n",
    "    \"\"\"\n",
    "    Returns:\n",
    "        dict: Dictionary containing weather data or an error message on failure.\n",
    "    \"\"\"\n",
    "\n",
    "    # Base URL for the NWS point forecast API\n",
    "    base_url = f\"https://api.weather.gov/points/{latitude},{longitude}\"\n",
    "\n",
    "    # Validate API version and units\n",
    "    valid_versions = [\"1.0\", \"1.1\"]\n",
    "    valid_units = [\"si\", \"us\"]\n",
    "    if api_version not in valid_versions:\n",
    "        raise ValueError(f\"Invalid API version: {api_version}. Valid versions: {', '.join(valid_versions)}\")\n",
    "    if units not in valid_units:\n",
    "        raise ValueError(f\"Invalid units: {units}. Valid units: {', '.join(valid_units)}\")\n",
    "\n",
    "    try:\n",
    "        # Get the grid ID for the given location\n",
    "        response = requests.get(url=base_url)\n",
    "        response.raise_for_status()  # Raise an exception for non-200 status codes\n",
    "        data = response.json()\n",
    "\n",
    "        properties = data[\"properties\"]\n",
    "\n",
    "        office = properties.get(\"gridId\", None)\n",
    "        gridX = properties.get(\"gridX\", None)\n",
    "        gridY = properties.get(\"gridY\", None)\n",
    "\n",
    "        if not office or not gridX or not gridY:\n",
    "            return {\"error\": \"office/gridX/gridY not found in response\"}\n",
    "\n",
    "\n",
    "        # Build the grid forecast API URL\n",
    "        # forecast_url = f\"https://api.weather.gov/gridpoints/{office}/{gridX},{gridY}/forecast/{api_version}?units={units}\"\n",
    "        forecast_url = f\"https://api.weather.gov/gridpoints/{office}/{gridX},{gridY}/forecast/\"\n",
    "        print(\"Requesting from\", forecast_url)\n",
    "\n",
    "        # Fetch the forecast using the grid ID\n",
    "        forecast_response = requests.get(url=forecast_url)\n",
    "        forecast_response.raise_for_status()\n",
    "        forecast_data = forecast_response.json()\n",
    "        return forecast_data\n",
    "\n",
    "    except requests.exceptions.RequestException as e:\n",
    "        return {\"error\": f\"Error fetching weather data: {str(e)}\"}\n",
    "    except ValueError as e:\n",
    "        return {\"error\": str(e)}  # Re-raise ValueError for invalid input\n"
   ]
  },
  {
   "cell_type": "code",
   "execution_count": 47,
   "id": "4ec20486",
   "metadata": {},
   "outputs": [],
   "source": [
    "def extract_components(weather_json):\n",
    "    # print(weather_json)\n",
    "    try:\n",
    "        properties = weather_json[\"properties\"]\n",
    "        period = properties[\"periods\"][1]\n",
    "\n",
    "        temp = period['temperature'] # Fahrenheit\n",
    "        rain = period['probabilityOfPrecipitation']['value'] # Probability\n",
    "        humidity = period['relativeHumidity']['value'] # Percent\n",
    "        wind = period['windSpeed'] # MPH\n",
    "\n",
    "        return {\"temp\" : temp, \"rain\" : rain, \"humidit\" : humidity, \"wind\" : wind}\n",
    "    except:\n",
    "        return {\"temp\" : None, \"rain\" : None, \"humidit\" : None, \"wind\" : None}"
   ]
  },
  {
   "cell_type": "code",
   "execution_count": 49,
   "id": "07197155",
   "metadata": {},
   "outputs": [
    {
     "name": "stdout",
     "output_type": "stream",
     "text": [
      "Requesting from https://api.weather.gov/gridpoints/ILX/95,72/forecast/\n",
      "{'temp': 47, 'rain': None, 'humidit': 71, 'wind': '8 mph'}\n"
     ]
    }
   ],
   "source": [
    "# Usage for Champaign:\n",
    "latitude = 40.11  # Champaign, Illinois (example)\n",
    "longitude = -88.26\n",
    "\n",
    "try:\n",
    "    weather_json = get_weather_nws(latitude, longitude)\n",
    "    if \"error\" in weather_json:\n",
    "        print(f\"Error: {weather_json['error']}\")\n",
    "    else:\n",
    "        components = extract_components(weather_json)\n",
    "        print(components)\n",
    "\n",
    "except ValueError as e:\n",
    "    print(f\"Invalid input: {str(e)}\")\n"
   ]
  }
 ],
 "metadata": {
  "kernelspec": {
   "display_name": "Python 3",
   "language": "python",
   "name": "python3"
  },
  "language_info": {
   "codemirror_mode": {
    "name": "ipython",
    "version": 3
   },
   "file_extension": ".py",
   "mimetype": "text/x-python",
   "name": "python",
   "nbconvert_exporter": "python",
   "pygments_lexer": "ipython3",
   "version": "3.8.5"
  }
 },
 "nbformat": 4,
 "nbformat_minor": 5
}
