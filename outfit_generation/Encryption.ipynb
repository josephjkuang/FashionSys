{
  "nbformat": 4,
  "nbformat_minor": 0,
  "metadata": {
    "colab": {
      "provenance": []
    },
    "kernelspec": {
      "name": "python3",
      "display_name": "Python 3"
    },
    "language_info": {
      "name": "python"
    }
  },
  "cells": [
    {
      "cell_type": "markdown",
      "source": [
        "#**Encryption process**\n",
        "\n",
        "\n",
        "\n",
        "1.   Each client generates its own symmetric key.\n",
        "2.   The symmetric key is encrypted with the server's public key.\n",
        "3.   The client encrypts the data with its own symmetric key and sends both the encrypted data and symmetric key to the server.\n",
        "4.   encrypted data and symmetric key to the server.\n",
        "The server receives the client's symmetric key using its private key and uses it to decrypt the data.\n",
        "\n",
        "\n",
        "### In this way:\n",
        "\n",
        "*   Each client only has the key that can decrpyt its own data stored on local machine\n",
        "*   Other than the client, the server is the only one that has access to the original symmertical key\n",
        "\n"
      ],
      "metadata": {
        "id": "t3ULojUDKb8f"
      }
    },
    {
      "cell_type": "code",
      "source": [
        "import time\n",
        "import tensorflow as tf\n",
        "from cryptography.fernet import Fernet\n",
        "import numpy as np"
      ],
      "metadata": {
        "id": "aMYRamvQMeVG"
      },
      "execution_count": 1,
      "outputs": []
    },
    {
      "cell_type": "code",
      "source": [
        "from Crypto.PublicKey import RSA\n",
        "from Crypto.Cipher import PKCS1_OAEP\n",
        "from Crypto.Cipher import AES\n",
        "from Crypto.Random import get_random_bytes"
      ],
      "metadata": {
        "id": "eH74v3G8NGUV"
      },
      "execution_count": 2,
      "outputs": []
    },
    {
      "cell_type": "code",
      "source": [
        "!pip install --upgrade pycryptodome"
      ],
      "metadata": {
        "colab": {
          "base_uri": "https://localhost:8080/"
        },
        "id": "HQCw82xGMf6r",
        "outputId": "f8460ba7-807a-4930-c28c-113d07c7ca31"
      },
      "execution_count": 3,
      "outputs": [
        {
          "output_type": "stream",
          "name": "stdout",
          "text": [
            "Requirement already satisfied: pycryptodome in /usr/local/lib/python3.10/dist-packages (3.20.0)\n"
          ]
        }
      ]
    },
    {
      "cell_type": "code",
      "source": [
        "def generate_key_pair():\n",
        "    server_key = RSA.generate(2048)\n",
        "    with open('server_private_key.pem', 'wb') as f:\n",
        "        f.write(server_key.export_key())\n",
        "\n",
        "    # Save server's public key (for encryption)\n",
        "    with open('server_public_key.pem', 'wb') as f:\n",
        "        f.write(server_key.publickey().export_key())\n",
        "\n",
        "    return server_key\n"
      ],
      "metadata": {
        "id": "3aMsx81AKOgQ"
      },
      "execution_count": 4,
      "outputs": []
    },
    {
      "cell_type": "code",
      "source": [
        "server_key = generate_key_pair()"
      ],
      "metadata": {
        "id": "A7ZzH4WtOwze"
      },
      "execution_count": 5,
      "outputs": []
    },
    {
      "cell_type": "code",
      "source": [
        "# Create a TensorFlow tensor with shape (1, 28, 28, 512)\n",
        "data_tensor = tf.random.normal((1, 28, 28, 512))\n",
        "\n",
        "# Convert tensor data to bytes\n",
        "data_bytes = tf.io.serialize_tensor(data_tensor).numpy()"
      ],
      "metadata": {
        "id": "YP19tCGjMcDN"
      },
      "execution_count": 6,
      "outputs": []
    },
    {
      "cell_type": "markdown",
      "source": [
        "# **Client**"
      ],
      "metadata": {
        "id": "QVeM-fh_M0Ag"
      }
    },
    {
      "cell_type": "code",
      "source": [
        "# Generate a random key (should be kept secret and shared securely)\n",
        "key = Fernet.generate_key()\n",
        "cipher_suite = Fernet(key)\n",
        "\n",
        "# Encrypt symmetric key using server's public key\n",
        "with open('server_public_key.pem', 'rb') as f:\n",
        "    server_public_key = RSA.import_key(f.read())\n",
        "cipher_rsa = PKCS1_OAEP.new(server_public_key)\n",
        "encrypted_symmetric_key = cipher_rsa.encrypt(key)\n",
        "\n",
        "# Initialize Fernet cipher with the generated key\n",
        "cipher_suite = Fernet(key)"
      ],
      "metadata": {
        "id": "b0n-eJ9hM7UJ"
      },
      "execution_count": 7,
      "outputs": []
    },
    {
      "cell_type": "code",
      "source": [
        "def encrypt_embeddings(data, cipher_suite):\n",
        "    start_time = time.time()\n",
        "    encrypted_data = cipher_suite.encrypt(data)\n",
        "    end_time = time.time()\n",
        "    return encrypted_data, end_time - start_time"
      ],
      "metadata": {
        "id": "QaKOXgSsNS_s"
      },
      "execution_count": 8,
      "outputs": []
    },
    {
      "cell_type": "code",
      "source": [
        "\n",
        "encrypted_tensor, encryption_time = encrypt_embeddings(data_bytes, cipher_suite)"
      ],
      "metadata": {
        "id": "lTDsbRAhNWsH"
      },
      "execution_count": 9,
      "outputs": []
    },
    {
      "cell_type": "markdown",
      "source": [
        "# **Server**"
      ],
      "metadata": {
        "id": "MyD9JYlJMOME"
      }
    },
    {
      "cell_type": "code",
      "source": [
        "# Decrypt client's symmetric key\n",
        "cipher_rsa = PKCS1_OAEP.new(server_key)\n",
        "decrypted_client_symmetric_key = cipher_rsa.decrypt(encrypted_symmetric_key)\n",
        "\n",
        "# Decrypt data using symmetric key\n",
        "cipher_suite = Fernet(decrypted_client_symmetric_key)\n"
      ],
      "metadata": {
        "id": "oDj3p4xTNg4M"
      },
      "execution_count": 10,
      "outputs": []
    },
    {
      "cell_type": "code",
      "source": [
        "def decrypt_embeddings(encrypted_data, cipher_suite):\n",
        "    start_time = time.time()\n",
        "    decrypted_data = cipher_suite.decrypt(encrypted_data)\n",
        "    end_time = time.time()\n",
        "    tensor = tf.io.parse_tensor(decrypted_data, out_type=tf.float32)\n",
        "    return tensor, end_time - start_time"
      ],
      "metadata": {
        "id": "6ovYGmvbO6Zk"
      },
      "execution_count": 11,
      "outputs": []
    },
    {
      "cell_type": "code",
      "source": [
        "tensor, decryption_time = decrypt_embeddings(encrypted_tensor, cipher_suite)"
      ],
      "metadata": {
        "id": "HLvaSgScPR_9"
      },
      "execution_count": 13,
      "outputs": []
    },
    {
      "cell_type": "code",
      "source": [
        "tensor == data_tensor"
      ],
      "metadata": {
        "colab": {
          "base_uri": "https://localhost:8080/"
        },
        "id": "G0Q8rvnjPsMh",
        "outputId": "4cfe862a-7c52-4499-f698-9984b936a6b0"
      },
      "execution_count": 14,
      "outputs": [
        {
          "output_type": "execute_result",
          "data": {
            "text/plain": [
              "<tf.Tensor: shape=(1, 28, 28, 512), dtype=bool, numpy=\n",
              "array([[[[ True,  True,  True, ...,  True,  True,  True],\n",
              "         [ True,  True,  True, ...,  True,  True,  True],\n",
              "         [ True,  True,  True, ...,  True,  True,  True],\n",
              "         ...,\n",
              "         [ True,  True,  True, ...,  True,  True,  True],\n",
              "         [ True,  True,  True, ...,  True,  True,  True],\n",
              "         [ True,  True,  True, ...,  True,  True,  True]],\n",
              "\n",
              "        [[ True,  True,  True, ...,  True,  True,  True],\n",
              "         [ True,  True,  True, ...,  True,  True,  True],\n",
              "         [ True,  True,  True, ...,  True,  True,  True],\n",
              "         ...,\n",
              "         [ True,  True,  True, ...,  True,  True,  True],\n",
              "         [ True,  True,  True, ...,  True,  True,  True],\n",
              "         [ True,  True,  True, ...,  True,  True,  True]],\n",
              "\n",
              "        [[ True,  True,  True, ...,  True,  True,  True],\n",
              "         [ True,  True,  True, ...,  True,  True,  True],\n",
              "         [ True,  True,  True, ...,  True,  True,  True],\n",
              "         ...,\n",
              "         [ True,  True,  True, ...,  True,  True,  True],\n",
              "         [ True,  True,  True, ...,  True,  True,  True],\n",
              "         [ True,  True,  True, ...,  True,  True,  True]],\n",
              "\n",
              "        ...,\n",
              "\n",
              "        [[ True,  True,  True, ...,  True,  True,  True],\n",
              "         [ True,  True,  True, ...,  True,  True,  True],\n",
              "         [ True,  True,  True, ...,  True,  True,  True],\n",
              "         ...,\n",
              "         [ True,  True,  True, ...,  True,  True,  True],\n",
              "         [ True,  True,  True, ...,  True,  True,  True],\n",
              "         [ True,  True,  True, ...,  True,  True,  True]],\n",
              "\n",
              "        [[ True,  True,  True, ...,  True,  True,  True],\n",
              "         [ True,  True,  True, ...,  True,  True,  True],\n",
              "         [ True,  True,  True, ...,  True,  True,  True],\n",
              "         ...,\n",
              "         [ True,  True,  True, ...,  True,  True,  True],\n",
              "         [ True,  True,  True, ...,  True,  True,  True],\n",
              "         [ True,  True,  True, ...,  True,  True,  True]],\n",
              "\n",
              "        [[ True,  True,  True, ...,  True,  True,  True],\n",
              "         [ True,  True,  True, ...,  True,  True,  True],\n",
              "         [ True,  True,  True, ...,  True,  True,  True],\n",
              "         ...,\n",
              "         [ True,  True,  True, ...,  True,  True,  True],\n",
              "         [ True,  True,  True, ...,  True,  True,  True],\n",
              "         [ True,  True,  True, ...,  True,  True,  True]]]])>"
            ]
          },
          "metadata": {},
          "execution_count": 14
        }
      ]
    },
    {
      "cell_type": "code",
      "source": [],
      "metadata": {
        "id": "_Yjp4oPDPuAA"
      },
      "execution_count": null,
      "outputs": []
    }
  ]
}