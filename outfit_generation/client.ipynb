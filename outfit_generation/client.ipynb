{
 "cells": [
  {
   "cell_type": "markdown",
   "metadata": {},
   "source": [
    "# Client-Side Code"
   ]
  },
  {
   "cell_type": "code",
   "execution_count": 1,
   "metadata": {},
   "outputs": [],
   "source": [
    "import numpy as np\n",
    "import tensorflow as tf\n",
    "from tensorflow.keras.preprocessing import image as kimage\n",
    "from tensorflow.keras.applications.resnet50 import ResNet50, preprocess_input\n",
    "from tensorflow.keras.models import Model\n",
    "\n",
    "from PIL import Image"
   ]
  },
  {
   "cell_type": "markdown",
   "metadata": {},
   "source": [
    "### Inference Model"
   ]
  },
  {
   "cell_type": "code",
   "execution_count": 48,
   "metadata": {},
   "outputs": [],
   "source": [
    "# Half of the Inference Model Stored on Client Side\n",
    "class ClientResNet(tf.keras.Model):\n",
    "    def __init__(self, *args, **kwargs):\n",
    "        super(ClientResNet, self).__init__(*args, **kwargs)\n",
    "        \n",
    "        # Load ResNet50 pre-trained model without top (fully connected) layers\n",
    "        resnet_base = ResNet50(weights='imagenet', include_top=False, input_shape=(224, 224, 3))\n",
    "        resnet_base.trainable = False\n",
    "        \n",
    "        # Get the output of the first three convolutional layers\n",
    "        middle_layer = resnet_base.get_layer('conv3_block4_out')\n",
    "        self.seq0 = Model(inputs=resnet_base.input, outputs=middle_layer.output)\n",
    "\n",
    "    # Convert image into right dimensions\n",
    "    def preprocess_image(self, img):\n",
    "        img_array = kimage.img_to_array(img)\n",
    "        expand_img = np.expand_dims(img_array, axis=0)\n",
    "        return preprocess_input(expand_img)\n",
    "    \n",
    "    def add_laplacian_noise(self, emb, noise_scale=0.5):\n",
    "        laplace_noise = np.random.laplace(0.0, noise_scale, size=emb.shape)\n",
    "        emb += laplace_noise\n",
    "        return emb\n",
    "        \n",
    "    # Forward pass of the client model\n",
    "    def predict(self, image_path, laplace_noise=False):\n",
    "        # Open and process the image\n",
    "        img = Image.open(image_path)\n",
    "        img = img.resize((224, 224)).convert(\"RGB\")\n",
    "\n",
    "        preprocessed_img = self.preprocess_image(img)\n",
    "        img.close()\n",
    "\n",
    "        # Feed through ResNet\n",
    "        emb = self.seq0(preprocessed_img)\n",
    "\n",
    "        # Apply noise\n",
    "        if laplace_noise:\n",
    "            emb = self.add_laplacian_noise(emb)\n",
    "\n",
    "        return emb\n",
    "\n",
    "# Load in Model\n",
    "ClientModel = ClientResNet()"
   ]
  },
  {
   "cell_type": "code",
   "execution_count": 49,
   "metadata": {},
   "outputs": [],
   "source": [
    "# Perform Inference on image path\n",
    "image_path = \"jeans.png\"\n",
    "client_embeddings = ClientModel.predict(image_path, False)\n",
    "\n",
    "# Replace: This is a mimic for sending to server\n",
    "np.save(\"client_embeddings.npy\", client_embeddings)\n",
    "\n",
    "noise_embeddings = ClientModel.predict(image_path, True)\n",
    "np.save(\"noise_embeddings.npy\", noise_embeddings)"
   ]
  },
  {
   "cell_type": "markdown",
   "metadata": {},
   "source": [
    "### Checklist\n",
    "1) Move Laplace Noise into model ✅\n",
    "2) Write Siamese Noise\n",
    "    - Add color classification\n",
    "    - Add item classification\n",
    "    - For each entry in the embedding, move 'alpha' closer to the cluster \n",
    "3) Add Distance Metric to Test\n",
    "4) Split ResNet Loading for size reasons\n",
    "5) Create ReadME of workflow"
   ]
  },
  {
   "cell_type": "code",
   "execution_count": 5,
   "metadata": {},
   "outputs": [],
   "source": [
    "# See model layers\n",
    "import tensorflow.keras.applications as keras_applications\n",
    "\n",
    "model = keras_applications.ResNet50(weights='imagenet', include_top=False)\n",
    "for layer in model.layers:\n",
    "    print(layer.name, layer.output_shape)"
   ]
  },
  {
   "cell_type": "code",
   "execution_count": null,
   "metadata": {},
   "outputs": [],
   "source": []
  }
 ],
 "metadata": {
  "kernelspec": {
   "display_name": "Python 3",
   "language": "python",
   "name": "python3"
  },
  "language_info": {
   "codemirror_mode": {
    "name": "ipython",
    "version": 3
   },
   "file_extension": ".py",
   "mimetype": "text/x-python",
   "name": "python",
   "nbconvert_exporter": "python",
   "pygments_lexer": "ipython3",
   "version": "3.8.5"
  }
 },
 "nbformat": 4,
 "nbformat_minor": 2
}
