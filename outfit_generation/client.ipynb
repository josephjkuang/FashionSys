{
 "cells": [
  {
   "cell_type": "markdown",
   "metadata": {},
   "source": [
    "# Client-Side Code"
   ]
  },
  {
   "cell_type": "code",
   "execution_count": 106,
   "metadata": {},
   "outputs": [],
   "source": [
    "import color_classify\n",
    "import joblib\n",
    "import numpy as np\n",
    "import tensorflow as tf\n",
    "\n",
    "from sklearn.mixture import GaussianMixture\n",
    "from tensorflow.keras.preprocessing import image as kimage\n",
    "from tensorflow.keras.applications.resnet50 import ResNet50, preprocess_input\n",
    "from tensorflow.keras.models import Model\n",
    "from PIL import Image"
   ]
  },
  {
   "cell_type": "markdown",
   "metadata": {},
   "source": [
    "### Inference Model"
   ]
  },
  {
   "cell_type": "code",
   "execution_count": 107,
   "metadata": {},
   "outputs": [],
   "source": [
    "# Half of the Inference Model Stored on Client Side\n",
    "class ClientResNet(tf.keras.Model):\n",
    "    def __init__(self, *args, **kwargs):\n",
    "        super(ClientResNet, self).__init__(*args, **kwargs)\n",
    "        \n",
    "        # Load ResNet50 pre-trained model without top (fully connected) layers\n",
    "        resnet_base = ResNet50(weights='imagenet', include_top=False, input_shape=(224, 224, 3))\n",
    "        resnet_base.trainable = False\n",
    "        \n",
    "        # Get the output of the first three convolutional layers\n",
    "        middle_layer = resnet_base.get_layer('conv3_block4_out')\n",
    "        self.seq0 = Model(inputs=resnet_base.input, outputs=middle_layer.output)\n",
    "\n",
    "        # Get cluster centers for cluster-based differential privacy\n",
    "        self.color_centers = {}\n",
    "        for i in range(0, 30):\n",
    "            self.color_centers[i] = np.load(f\"../polyvore_outfits/noise_embeddings/color_emb_{i}.npy\")\n",
    "\n",
    "        self.gmm_model = joblib.load('gmm_color_model.pkl')\n",
    "\n",
    "    # Convert image into right dimensions\n",
    "    def preprocess_image(self, img):\n",
    "        img_array = kimage.img_to_array(img)\n",
    "        expand_img = np.expand_dims(img_array, axis=0)\n",
    "        return preprocess_input(expand_img)\n",
    "    \n",
    "    # Add laplacian noise to embedding\n",
    "    def add_laplacian_noise(self, emb, noise_scale):\n",
    "        laplace_noise = np.random.laplace(0.0, noise_scale, size=emb.shape)\n",
    "        emb += laplace_noise\n",
    "        return emb\n",
    "    \n",
    "    # Add laplacian noise to embedding that is sign-controlled\n",
    "    def add_cluster_based_noise(self, emb, item_rgb, noise_scale):\n",
    "        # Get probabilities that it belongs to a certain cluster\n",
    "        cluster_idx = self.gmm_model.predict(np.array(item_rgb).reshape(1, -1))[0]\n",
    "\n",
    "        # Add controlled-random noise\n",
    "        laplacian_noise = np.random.laplace(0.0, noise_scale, size=emb.shape)\n",
    "\n",
    "        # Calculate distances after adding/subtracting the Laplacian noise\n",
    "        distance_after_add = np.abs(emb + laplacian_noise - self.color_centers[cluster_idx])\n",
    "        distance_after_sub = np.abs(emb - laplacian_noise - self.color_centers[cluster_idx])\n",
    "\n",
    "        # Compare distances to determine direction of noise addition\n",
    "        add_mask = distance_after_add > distance_after_sub\n",
    "        subtract_mask = ~add_mask\n",
    "\n",
    "        # Apply noise according to the determined direction\n",
    "        laplacian_noise *= add_mask.astype(float) - subtract_mask.astype(float)\n",
    "\n",
    "        return emb + laplacian_noise\n",
    "        \n",
    "    # Forward pass of the client model\n",
    "    def predict(self, image_path, laplace_noise=False, cluster_noise=False, noise_scale=0.35):\n",
    "        # Open and process the image\n",
    "        img = Image.open(image_path)\n",
    "        img = img.resize((224, 224)).convert(\"RGB\")\n",
    "\n",
    "        preprocessed_img = self.preprocess_image(img)\n",
    "        img.close()\n",
    "\n",
    "        # Feed through ResNet\n",
    "        emb = self.seq0(preprocessed_img)\n",
    "\n",
    "        # Apply noise\n",
    "        if laplace_noise:\n",
    "            emb = self.add_laplacian_noise(emb, noise_scale)\n",
    "        elif cluster_noise:\n",
    "            item_rgb = color_classify.get_color(image_path)\n",
    "            emb = self.add_cluster_based_noise(emb, item_rgb, noise_scale)\n",
    "\n",
    "        return emb\n",
    "\n",
    "# Load in Model\n",
    "ClientModel = ClientResNet()"
   ]
  },
  {
   "cell_type": "code",
   "execution_count": 108,
   "metadata": {},
   "outputs": [],
   "source": [
    "# Perform Inference on image path\n",
    "image_path = \"jeans.png\"\n",
    "\n",
    "# Predict without noise\n",
    "client_embeddings = ClientModel.predict(image_path)\n",
    "np.save(\"client_embeddings.npy\", client_embeddings)\n",
    "\n",
    "# Predict with Laplace noise\n",
    "noise_embeddings = ClientModel.predict(image_path, False, True)\n",
    "np.save(\"noise_embeddings.npy\", noise_embeddings)\n",
    "\n",
    "# Predict with CLuster noise\n",
    "cluster_embeddings = ClientModel.predict(image_path, True, False)\n",
    "np.save(\"cluster_embeddings.npy\", cluster_embeddings)"
   ]
  },
  {
   "cell_type": "markdown",
   "metadata": {},
   "source": [
    "### Checklist\n",
    "1) Move Laplace Noise into model ✅\n",
    "2) Write Siamese Noise ✅\n",
    "    - Add color classification ✅\n",
    "    - Add item classification 🟡 (Results don't improve and too much storage)\n",
    "    - For each entry in the embedding, move 'alpha' closer to the cluster ✅\n",
    "3) Add Distance Metric to Test ✅\n",
    "4) Split ResNet Loading for size reasons\n",
    "5) Create ReadME of workflow"
   ]
  },
  {
   "cell_type": "code",
   "execution_count": 110,
   "metadata": {},
   "outputs": [],
   "source": [
    "# See model layers\n",
    "import tensorflow.keras.applications as keras_applications\n",
    "\n",
    "model = keras_applications.ResNet50(weights='imagenet', include_top=False)\n",
    "for layer in model.layers:\n",
    "    print(layer.name, layer.output_shape)"
   ]
  },
  {
   "cell_type": "code",
   "execution_count": null,
   "metadata": {},
   "outputs": [],
   "source": []
  }
 ],
 "metadata": {
  "kernelspec": {
   "display_name": "Python 3",
   "language": "python",
   "name": "python3"
  },
  "language_info": {
   "codemirror_mode": {
    "name": "ipython",
    "version": 3
   },
   "file_extension": ".py",
   "mimetype": "text/x-python",
   "name": "python",
   "nbconvert_exporter": "python",
   "pygments_lexer": "ipython3",
   "version": "3.8.5"
  }
 },
 "nbformat": 4,
 "nbformat_minor": 2
}
