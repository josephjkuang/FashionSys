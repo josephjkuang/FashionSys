{
 "cells": [
  {
   "cell_type": "code",
   "execution_count": 6,
   "metadata": {},
   "outputs": [],
   "source": [
    "from PIL import Image\n",
    "\n",
    "import numpy as np\n",
    "import numpy.linalg as la\n",
    "import tensorflow as tf\n",
    "from tensorflow.keras.preprocessing import image as kimage\n",
    "from tensorflow.keras.applications.resnet50 import ResNet50, preprocess_input\n",
    "from tensorflow.keras.models import Model\n"
   ]
  },
  {
   "cell_type": "code",
   "execution_count": 12,
   "metadata": {},
   "outputs": [
    {
     "name": "stdout",
     "output_type": "stream",
     "text": [
      "(1, 2048)\n"
     ]
    },
    {
     "data": {
      "text/plain": [
       "<tf.Tensor: shape=(1, 2048), dtype=float32, numpy=\n",
       "array([[0.02651525, 0.073531  , 0.        , ..., 0.        , 0.00534359,\n",
       "        0.01297403]], dtype=float32)>"
      ]
     },
     "execution_count": 12,
     "metadata": {},
     "output_type": "execute_result"
    }
   ],
   "source": [
    "class ClientResNet(tf.keras.Model):\n",
    "    def __init__(self, *args, **kwargs):\n",
    "        super(ClientResNet, self).__init__(*args, **kwargs)\n",
    "        \n",
    "        # Load ResNet50 pre-trained model without top (fully connected) layers\n",
    "        resnet_base = ResNet50(weights='imagenet', include_top=False, input_shape=(224, 224, 3))\n",
    "        resnet_base.trainable = False\n",
    "        \n",
    "        # Get the output of the first three convolutional layers\n",
    "        middle_layer = resnet_base.get_layer('conv3_block4_out')\n",
    "        self.seq0 = Model(inputs=resnet_base.input, outputs=middle_layer.output)\n",
    "\n",
    "    def preprocess_image(self, img):\n",
    "        img_array = kimage.img_to_array(img)\n",
    "        expand_img = np.expand_dims(img_array, axis=0)\n",
    "        return preprocess_input(expand_img)\n",
    "\n",
    "    def predict(self, inputs):\n",
    "        preprocessed_img = self.preprocess_image(inputs)\n",
    "        return self.seq0(preprocessed_img)\n",
    "    \n",
    "class ServerResnet(tf.keras.Model):\n",
    "    def __init__(self, *args, **kwargs):\n",
    "        super(ServerResnet, self).__init__(*args, **kwargs)\n",
    "        \n",
    "        # Load ResNet50 pre-trained model without top (fully connected) layers\n",
    "        resnet_base = ResNet50(weights='imagenet', include_top=False, input_shape=(224, 224, 3))\n",
    "        resnet_base.trainable = False\n",
    "        \n",
    "        # Get the output of the last two convolutional layer before Pooling\n",
    "        middle_layer = resnet_base.get_layer('conv3_block4_out')\n",
    "        last_conv_layer = resnet_base.get_layer('conv5_block3_out')\n",
    "\n",
    "        self.seq1 = tf.keras.Sequential([\n",
    "            Model(inputs=middle_layer.output, outputs=last_conv_layer.output),\n",
    "            tf.keras.layers.GlobalMaxPooling2D(),\n",
    "        ])\n",
    "\n",
    "    def predict(self, inputs):\n",
    "        server_embeddings = self.seq1(inputs)\n",
    "\n",
    "        # Normalize data\n",
    "        flatten_result = tf.keras.layers.Flatten()(server_embeddings)\n",
    "        result_normalized = flatten_result / la.norm(flatten_result)\n",
    "        return result_normalized\n",
    "\n",
    "def get_embeddings(img):\n",
    "    # Run prediction\n",
    "    client_embeddings = ClientModel.predict(img)\n",
    "    server_embeddings = ServerModel.predict(client_embeddings)\n",
    "    print(server_embeddings.shape)\n",
    "\n",
    "    return server_embeddings\n",
    "\n",
    "ClientModel = ClientResNet()\n",
    "ServerModel = ServerResnet()\n",
    "\n",
    "image_path = \"jeans.png\"\n",
    "img = Image.open(image_path)\n",
    "image = img.resize((224, 224)).convert(\"RGB\")\n",
    "get_embeddings(image)\n"
   ]
  },
  {
   "cell_type": "code",
   "execution_count": null,
   "metadata": {},
   "outputs": [],
   "source": []
  }
 ],
 "metadata": {
  "kernelspec": {
   "display_name": "Python 3",
   "language": "python",
   "name": "python3"
  },
  "language_info": {
   "codemirror_mode": {
    "name": "ipython",
    "version": 3
   },
   "file_extension": ".py",
   "mimetype": "text/x-python",
   "name": "python",
   "nbconvert_exporter": "python",
   "pygments_lexer": "ipython3",
   "version": "3.8.5"
  }
 },
 "nbformat": 4,
 "nbformat_minor": 2
}
