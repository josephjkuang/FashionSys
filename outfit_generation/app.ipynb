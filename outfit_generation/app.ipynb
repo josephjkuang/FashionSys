{
 "cells": [
  {
   "cell_type": "markdown",
   "metadata": {},
   "source": [
    "# Outfit Generation\n",
    "- Take in an image and return a style board"
   ]
  },
  {
   "cell_type": "code",
   "execution_count": 4,
   "metadata": {},
   "outputs": [],
   "source": [
    "import json\n",
    "import numpy as np\n"
   ]
  },
  {
   "cell_type": "markdown",
   "metadata": {},
   "source": [
    "### Load in embeddings and models"
   ]
  },
  {
   "cell_type": "code",
   "execution_count": 5,
   "metadata": {},
   "outputs": [],
   "source": [
    "# Data paths\n",
    "data_dir = \"../polyvore_outfits/\"\n",
    "\n",
    "embeddings_path = data_dir + \"embeddings.npy\"\n",
    "filenames_path = data_dir + \"filenames.txt\"\n",
    "images_path = data_dir + \"images\"\n",
    "item_metadata_path = data_dir + \"item_metadata.json\"\n",
    "outfits_metadata_path = data_dir + \"outfits_metadata.json\"\n",
    "categories_path = data_dir + \"categories.csv\"\n",
    "\n",
    "# Load in embeddings\n",
    "embeddings = np.load(embeddings_path)\n",
    "filenames_file = open(filenames_path, 'r')\n",
    "filenames = [line.strip() for line in filenames_file.readlines()]\n",
    "\n",
    "if len(embeddings) != len(filenames):\n",
    "    print(\"STOP. The lengths of embeddings and filenames don't match\")\n",
    "    print(len(embeddings), len(filenames))\n",
    "\n",
    "# Load in outfits\n",
    "outfits_file = open(outfits_metadata_path, 'r')\n",
    "outfit_map = json.load(outfits_file)\n",
    "\n",
    "items_file = open(item_metadata_path, 'r')\n",
    "items_map = json.load(items_file)\n",
    "\n",
    "categories_file = open(categories_path)\n",
    "category_map = {}\n",
    "for line in categories_file:\n",
    "    parts = line.strip().split(',')\n",
    "    category_map[parts[0]] = tuple(parts[1:])\n"
   ]
  },
  {
   "cell_type": "markdown",
   "metadata": {},
   "source": [
    "### Create Mapping from iPython Categories to Categories.csv\n",
    "- Look at Vision_Model Branch code\n",
    "- Sub lists for images based off type of clothing for quicker search"
   ]
  },
  {
   "cell_type": "markdown",
   "metadata": {},
   "source": [
    "### Create Inverted Index\n",
    "- idx of embedding from image name to filename"
   ]
  },
  {
   "cell_type": "markdown",
   "metadata": {},
   "source": [
    "### Narrow Scope of Color Inference"
   ]
  },
  {
   "cell_type": "markdown",
   "metadata": {},
   "source": [
    "### Run Background Remover, Clothing Identifier, and Color Finder"
   ]
  },
  {
   "cell_type": "markdown",
   "metadata": {},
   "source": [
    "### Narrow Search by finding intersection for the color and clothing identifier"
   ]
  },
  {
   "cell_type": "markdown",
   "metadata": {},
   "source": [
    "### Run nearest neighbors on intersection"
   ]
  },
  {
   "cell_type": "markdown",
   "metadata": {},
   "source": [
    "### Return the style boards for the nearest items. Extract from inverted index"
   ]
  },
  {
   "cell_type": "markdown",
   "metadata": {},
   "source": []
  }
 ],
 "metadata": {
  "kernelspec": {
   "display_name": "Python 3",
   "language": "python",
   "name": "python3"
  },
  "language_info": {
   "codemirror_mode": {
    "name": "ipython",
    "version": 3
   },
   "file_extension": ".py",
   "mimetype": "text/x-python",
   "name": "python",
   "nbconvert_exporter": "python",
   "pygments_lexer": "ipython3",
   "version": "3.8.5"
  }
 },
 "nbformat": 4,
 "nbformat_minor": 2
}
